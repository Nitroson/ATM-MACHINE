{
 "cells": [
  {
   "cell_type": "markdown",
   "id": "64c052c6",
   "metadata": {},
   "source": [
    "1. Calculate how many GHS 1 notes, GHS 2 notes, and GHS 5 notes will be dispensed for each amount requested by the user.\n",
    "2. Take as input, the number of GHS 1 notes, GHS 2 notes, GHS 5 notes, GHS 10 notes,\n",
    "GHS 20 notes, and GHS 50 notes, and calculate how many notes of each will be dispensed for each amount requested by the user.\n",
    "3. Research online how to write unit tests for the programming language used in the above algorithm and write tests for it."
   ]
  },
  {
   "cell_type": "markdown",
   "id": "3d64709a",
   "metadata": {},
   "source": [
    "# ATM Algorithm test solution"
   ]
  },
  {
   "cell_type": "markdown",
   "id": "362744ef",
   "metadata": {},
   "source": [
    "\n",
    "\n",
    "#To calculate the number of GHS 1, GHS 2, and GHS 5 notes that will be dispensed for a given amount, you can use the following algorithm:"
   ]
  },
  {
   "cell_type": "code",
   "execution_count": 11,
   "id": "f4c971c0",
   "metadata": {},
   "outputs": [
    {
     "name": "stdout",
     "output_type": "stream",
     "text": [
      "Enter the amount to be dispensed: 56\n",
      "Notes---\n",
      "Gh1: 1\n",
      "Gh2: 0\n",
      "Gh5: 11\n"
     ]
    }
   ],
   "source": [
    "# create function to execute above code\n",
    "def calculate_notes(amount):\n",
    "    ghs5_notes = amount//5\n",
    "    amount %= 5\n",
    "    \n",
    "    ghs2_notes = amount//2\n",
    "    amount %= 2\n",
    "    \n",
    "    ghs1_notes = amount\n",
    "    \n",
    "    return ghs1_notes ,ghs2_notes,ghs5_notes\n",
    "\n",
    "\n",
    "\n",
    "# An illustrative example of the function\n",
    "\n",
    "\n",
    "#Taking user input \n",
    "amount = int(input(\"Enter the amount to be dispensed: \"))\n",
    "\n",
    "#declaring variables for various amount\n",
    "ghs1, ghs2, ghs5 = calculate_notes(amount)\n",
    "\n",
    "print('Notes---')\n",
    "print(\"Gh1:\",ghs1)\n",
    "print(\"Gh2:\",ghs2)\n",
    "print(\"Gh5:\",ghs5)\n"
   ]
  },
  {
   "cell_type": "code",
   "execution_count": null,
   "id": "a086e489",
   "metadata": {},
   "outputs": [],
   "source": []
  },
  {
   "cell_type": "markdown",
   "id": "e9a4c3fa",
   "metadata": {},
   "source": [
    "#To calculate the number of each denomination of notes that will be dispensed based on the user input, you can use the following algorithm:"
   ]
  },
  {
   "cell_type": "code",
   "execution_count": 17,
   "id": "ab5ec046",
   "metadata": {},
   "outputs": [
    {
     "name": "stdout",
     "output_type": "stream",
     "text": [
      "Enter amount requested:34\n",
      "GHS 50 notes: 0\n",
      "GHS 20 notes: 1\n",
      "GHS 10 notes: 1\n",
      "GHS 5 notes: 0\n",
      "GHS 2 notes: 2\n",
      "GHS 1 notes: 0\n"
     ]
    }
   ],
   "source": [
    "def dispense_notes(amount, notes):\n",
    "    # Sort the notes in descending order to start with higher denominations\n",
    "    sorted_notes = sorted(notes, reverse=True)\n",
    "\n",
    "    dispensed_notes = {}  # Dictionary to store the number of notes dispensed\n",
    "\n",
    "    for note in sorted_notes:\n",
    "        num_notes = amount // note  # Calculate the number of notes of the current denomination\n",
    "        amount %= note  # Update the remaining amount\n",
    "        dispensed_notes[note] = num_notes  # Store the number of dispensed notes\n",
    "\n",
    "    return dispensed_notes\n",
    "\n",
    "# Example usage\n",
    "amount_requested = int(input(\"Enter amount requested:\"))  # Amount requested by the user\n",
    "available_notes = [50, 20, 10, 5, 2, 1]  # Available denominations\n",
    "\n",
    "dispensed_notes = dispense_notes(amount_requested, available_notes)\n",
    "\n",
    "# Print the dispensed notes for each denomination\n",
    "for note, count in dispensed_notes.items():\n",
    "    print(f\"GHS {note} notes: {count}\")\n"
   ]
  },
  {
   "cell_type": "code",
   "execution_count": null,
   "id": "46b003da",
   "metadata": {},
   "outputs": [],
   "source": []
  },
  {
   "cell_type": "code",
   "execution_count": null,
   "id": "7a4a7dd6",
   "metadata": {},
   "outputs": [],
   "source": []
  },
  {
   "cell_type": "code",
   "execution_count": null,
   "id": "12049e90",
   "metadata": {},
   "outputs": [],
   "source": []
  },
  {
   "cell_type": "code",
   "execution_count": null,
   "id": "993f47e2",
   "metadata": {},
   "outputs": [],
   "source": []
  },
  {
   "cell_type": "code",
   "execution_count": null,
   "id": "1911078f",
   "metadata": {},
   "outputs": [],
   "source": []
  },
  {
   "cell_type": "code",
   "execution_count": null,
   "id": "99a15df3",
   "metadata": {},
   "outputs": [],
   "source": []
  }
 ],
 "metadata": {
  "kernelspec": {
   "display_name": "Python 3",
   "language": "python",
   "name": "python3"
  },
  "language_info": {
   "codemirror_mode": {
    "name": "ipython",
    "version": 3
   },
   "file_extension": ".py",
   "mimetype": "text/x-python",
   "name": "python",
   "nbconvert_exporter": "python",
   "pygments_lexer": "ipython3",
   "version": "3.8.8"
  }
 },
 "nbformat": 4,
 "nbformat_minor": 5
}
